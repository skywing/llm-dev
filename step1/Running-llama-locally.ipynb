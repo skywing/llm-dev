{
 "cells": [
  {
   "cell_type": "code",
   "execution_count": null,
   "metadata": {},
   "outputs": [],
   "source": [
    "! pip install langchain==0.0.350\n",
    "\n",
    "# This set the llama-cpp-python to use the MacOS Metal (GPU) instead of CPU\n",
    "%env CMAKE_ARGS=\"-DLLAMA_METAL=on\" FORCE_CMAKE=1\n",
    "! pip install --upgrade --force-reinstall llama-cpp-python==0.2.23 --no-cache-dir\n",
    "\n",
    "# If you want to use the CPU versio, use this instead\n",
    "# ! pip install llama-cpp-python"
   ]
  },
  {
   "cell_type": "code",
   "execution_count": null,
   "metadata": {},
   "outputs": [],
   "source": [
    "from langchain.chains import LLMChain\n",
    "from langchain.llms import LlamaCpp\n",
    "\n",
    "# If you following the instruction and use the q4_0 model, you path should be: [UPDATE_AND_PUT_YOUR_PATH_TO_MODEL_HERE]/llama.cpp/models/llama-2-7b-chat/ggml-model-q4_0.gguf\n",
    "# the folloiwing code use the q5_0 model\n",
    "llm = LlamaCpp(\n",
    "    model_path=\"[UPDATE_TO_YOUR_MODEL_PATH]/llama.cpp/models/llama-2-7b-chat/ggml-model-q5_0.gguf\",\n",
    "    temperature=0.25,\n",
    "    n_gpu_layers=1,\n",
    "    n_batch=512,\n",
    "    n_ctx=2048,\n",
    "    f16_kv=True,\n",
    "    verbose=True,\n",
    ")\n"
   ]
  },
  {
   "cell_type": "code",
   "execution_count": null,
   "metadata": {},
   "outputs": [],
   "source": [
    "# The langchain asked here is about the Langchain LLM development framework,\n",
    "# and you might see the response is not very relevant to the question.\n",
    "llm.invoke(\"what is langchain?\")"
   ]
  },
  {
   "cell_type": "code",
   "execution_count": null,
   "metadata": {},
   "outputs": [],
   "source": [
    "from langchain.prompts.chat import ChatPromptTemplate\n",
    "\n",
    "# To get the LLM response to be more relevant to the question, \n",
    "# we can use the ChatPromptTemplate to set the context of the question.\n",
    "template = \"\"\"[INST]<<SYS>>You are a large language model developer. \n",
    "You able to help engineer to develop large language model application with langchain framework.<</SYS>>\n",
    "Question: {human_input} [/INST]\n",
    "\"\"\"\n",
    "\n",
    "prompt = ChatPromptTemplate.from_template(template)\n",
    "chain = prompt | llm\n",
    "chain.invoke({\"human_input\": \"what is langchain?\"})\n"
   ]
  },
  {
   "cell_type": "code",
   "execution_count": null,
   "metadata": {},
   "outputs": [],
   "source": [
    "from langchain.schema.runnable import RunnablePassthrough\n",
    "\n",
    "# The following is the Langchain syntatic sugar to simplify the chain input \n",
    "# so user only provide text input instead of the dict format with \"human_input\" key.\n",
    "simplify_chain = (\n",
    "    {\"human_input\": RunnablePassthrough()}\n",
    "    | prompt\n",
    "    | llm\n",
    ")\n",
    "simplify_chain.invoke(\"how do I get started develop with LangChain?\")\n"
   ]
  }
 ],
 "metadata": {
  "kernelspec": {
   "display_name": "llm",
   "language": "python",
   "name": "python3"
  },
  "language_info": {
   "codemirror_mode": {
    "name": "ipython",
    "version": 3
   },
   "file_extension": ".py",
   "mimetype": "text/x-python",
   "name": "python",
   "nbconvert_exporter": "python",
   "pygments_lexer": "ipython3",
   "version": "3.11.5"
  }
 },
 "nbformat": 4,
 "nbformat_minor": 2
}
