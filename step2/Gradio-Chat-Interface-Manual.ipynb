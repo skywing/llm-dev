{
 "cells": [
  {
   "cell_type": "code",
   "execution_count": null,
   "metadata": {},
   "outputs": [],
   "source": [
    "! pip install langchain==0.0.350\n",
    "! pip install llama-cpp-python==0.2.23\n",
    "! pip install gradio==4.9.0"
   ]
  },
  {
   "cell_type": "code",
   "execution_count": null,
   "metadata": {},
   "outputs": [],
   "source": [
    "from langchain.chains import LLMChain\n",
    "from langchain.llms import LlamaCpp\n",
    "from langchain.prompts import PromptTemplate\n",
    "\n",
    "# The following example prompt template include the placeholder {history} that will keep the chat history that \n",
    "# will provide conversation context so the model can generate more relevant response.\n",
    "template = \"\"\"Assistant is a large language model developer.\n",
    "Assistant able to help engineer to develop large language model application with langchain framework.\n",
    "\n",
    "Human: what is langchain framework?\n",
    "AI: langchain framework is a framework to develop large language model application.\n",
    "\n",
    "{history}\n",
    "Human: {input}\n",
    "AI:\"\"\"\n",
    "\n",
    "prompt = PromptTemplate.from_template(template)\n",
    "\n",
    "# If you following the instruction and use the q4_0 model, you path should be: [UPDATE_AND_PUT_YOUR_PATH_TO_MODEL_HERE]/llama.cpp/models/llama-2-7b-chat/ggml-model-q4_0.gguf\n",
    "# the folloiwing code use the q5_0 model.\n",
    "# \n",
    "llm = LlamaCpp(\n",
    "    model_path=\"[PATH_TO_YOUR_MODEL]/llama.cpp/models/llama-2-7b-chat/ggml-model-q5_0.gguf\",\n",
    "    temperature=0.25,\n",
    "    n_gpu_layers=1,\n",
    "    n_batch=512,\n",
    "    n_ctx=2048,\n",
    "    verbose=False,\n",
    "    stop=[\"Human:\"]\n",
    ")\n",
    "\n",
    "llm_chain = LLMChain(llm=llm, prompt=prompt, verbose=True)\n"
   ]
  },
  {
   "cell_type": "code",
   "execution_count": null,
   "metadata": {},
   "outputs": [],
   "source": [
    "import gradio as gr\n",
    "\n",
    "def predict(message, history):\n",
    "    # history is in array of array format [[\"human message\", \"ai response\"], [\"human message\", \"ai response\"]..]\n",
    "    # Reformat the history messages into the prompt format. Just a simple converation started with either\n",
    "    # Human: or AI: prefix.\n",
    "    history_messages = \"\"\n",
    "    for human_message, ai_response in history:\n",
    "        history_messages = history_messages + \"\\nHuman: \" + human_message + \"\\nAI: \" + ai_response\n",
    "\n",
    "    resp = llm_chain.invoke({\"input\": message, \"history\": history_messages})\n",
    "    return resp[\"text\"].strip()\n",
    "\n",
    "\n",
    "chat_interface = gr.ChatInterface(\n",
    "        predict,\n",
    "        clear_btn=None,\n",
    "        undo_btn=None,\n",
    "        retry_btn=None,\n",
    "        submit_btn=\"Send\"\n",
    "    )\n",
    "chat_interface.launch()"
   ]
  },
  {
   "cell_type": "code",
   "execution_count": null,
   "metadata": {},
   "outputs": [],
   "source": [
    "# close the chat interface server\n",
    "chat_interface.close()"
   ]
  }
 ],
 "metadata": {
  "kernelspec": {
   "display_name": ".venv",
   "language": "python",
   "name": "python3"
  },
  "language_info": {
   "codemirror_mode": {
    "name": "ipython",
    "version": 3
   },
   "file_extension": ".py",
   "mimetype": "text/x-python",
   "name": "python",
   "nbconvert_exporter": "python",
   "pygments_lexer": "ipython3",
   "version": "3.11.5"
  }
 },
 "nbformat": 4,
 "nbformat_minor": 2
}
