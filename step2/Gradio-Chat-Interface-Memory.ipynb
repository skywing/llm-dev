{
 "cells": [
  {
   "cell_type": "code",
   "execution_count": null,
   "metadata": {},
   "outputs": [],
   "source": [
    "from langchain.chains import LLMChain\n",
    "from langchain.llms import LlamaCpp\n",
    "from langchain.prompts import (\n",
    "    ChatPromptTemplate, \n",
    "    HumanMessagePromptTemplate, \n",
    "    MessagesPlaceholder\n",
    ")\n",
    "from langchain.schema import SystemMessage\n",
    "from langchain.memory import ConversationBufferWindowMemory\n",
    "\n",
    "\n",
    "# template = \"\"\"Assistant is a large language model developer.\n",
    "# Assistant able to help engineer to develop large language model application with langchain framework.\n",
    "#\n",
    "# {history}\n",
    "# Human: {input}\n",
    "# AI:\"\"\"\n",
    "prompt = ChatPromptTemplate.from_messages(\n",
    "    [\n",
    "        SystemMessage(content=\"\"\"You are a helpful AI is a large language model developer. \n",
    "                      AI able to help engineer to develop large language model application with langchain framework.\n",
    "\n",
    "                      Current conversation:\"\n",
    "                      \"\"\"),\n",
    "        MessagesPlaceholder(variable_name=\"chat_history\"),\n",
    "        HumanMessagePromptTemplate.from_template(\"{input}\"),\n",
    "    ]\n",
    ")\n",
    "\n",
    "conversation_buffer = ConversationBufferWindowMemory(\n",
    "    window_size=20, \n",
    "    memory_key=\"chat_history\",\n",
    "    return_messages=True)\n",
    "\n",
    "# If you following the instruction and use the q4_0 model, you path should be: [UPDATE_AND_PUT_YOUR_PATH_TO_MODEL_HERE]/llama.cpp/models/llama-2-7b-chat/ggml-model-q4_0.gguf\n",
    "# the folloiwing code use the q5_0 model\n",
    "llm = LlamaCpp(\n",
    "    model_path=\"[PATH_TO_YOUR_MODEL]/llama.cpp/models/llama-2-7b-chat/ggml-model-q5_0.gguf\",\n",
    "    temperature=0.25,\n",
    "    n_gpu_layers=1,\n",
    "    n_batch=512,\n",
    "    n_ctx=2048,\n",
    "    verbose=True,\n",
    "    stop=[\"Human\"]\n",
    ")\n",
    "\n",
    "llm_chain = LLMChain(\n",
    "    llm=llm, \n",
    "    prompt=prompt, \n",
    "    memory=conversation_buffer,\n",
    "    verbose=True)\n"
   ]
  },
  {
   "cell_type": "code",
   "execution_count": null,
   "metadata": {},
   "outputs": [],
   "source": [
    "import gradio as gr\n",
    "\n",
    "def predict(message, history):\n",
    "    '''\n",
    "    Function that will be called when the user hits the submit button.\n",
    "    the history parameter is not used since it is managed by the ConversationBufferWindowMemory.\n",
    "    '''\n",
    "    resp = llm_chain.invoke({\"input\": message})\n",
    "    response_text = resp[\"text\"].strip().replace(\"AI:\", \"\")\n",
    "    return response_text\n",
    "\n",
    "\n",
    "chatui = gr.ChatInterface(\n",
    "    predict,\n",
    "    retry_btn=None,\n",
    "    undo_btn=None,\n",
    "    clear_btn=None,\n",
    "    submit_btn=\"Send\")\n",
    "\n",
    "chatui.launch()"
   ]
  },
  {
   "cell_type": "code",
   "execution_count": null,
   "metadata": {},
   "outputs": [],
   "source": [
    "# close the server running gradio chat interface\n",
    "chatui.close()\n"
   ]
  }
 ],
 "metadata": {
  "kernelspec": {
   "display_name": ".venv",
   "language": "python",
   "name": "python3"
  },
  "language_info": {
   "codemirror_mode": {
    "name": "ipython",
    "version": 3
   },
   "file_extension": ".py",
   "mimetype": "text/x-python",
   "name": "python",
   "nbconvert_exporter": "python",
   "pygments_lexer": "ipython3",
   "version": "3.11.5"
  }
 },
 "nbformat": 4,
 "nbformat_minor": 2
}
