{
 "cells": [
  {
   "cell_type": "code",
   "execution_count": null,
   "metadata": {},
   "outputs": [],
   "source": [
    "! pip install -q langchain==0.0.350\n",
    "! pip install -q gradio==4.9.0\n",
    "! pip install -q openai==1.3.8\n",
    "! pip install -q python-dotenv==1.0.0"
   ]
  },
  {
   "cell_type": "code",
   "execution_count": 1,
   "metadata": {},
   "outputs": [],
   "source": [
    "from dotenv import load_dotenv, find_dotenv\n",
    "\n",
    "# find .env automatically by walking up directories until it's found \n",
    "# .env is a private file that is not checked into git\n",
    "# you can create one on your local folder and add your OPEN API key there like this:\n",
    "# OPENAI_API_KEY=YOUR_OPENAI_API_KEY\n",
    "_ = load_dotenv(find_dotenv())"
   ]
  },
  {
   "cell_type": "code",
   "execution_count": 2,
   "metadata": {},
   "outputs": [
    {
     "name": "stderr",
     "output_type": "stream",
     "text": [
      "/Users/furydev/aidev/llm-dev/.venv/lib/python3.11/site-packages/tqdm/auto.py:21: TqdmWarning: IProgress not found. Please update jupyter and ipywidgets. See https://ipywidgets.readthedocs.io/en/stable/user_install.html\n",
      "  from .autonotebook import tqdm as notebook_tqdm\n"
     ]
    },
    {
     "name": "stdout",
     "output_type": "stream",
     "text": [
      "Running on local URL:  http://127.0.0.1:7860\n",
      "\n",
      "To create a public link, set `share=True` in `launch()`.\n"
     ]
    },
    {
     "data": {
      "text/html": [
       "<div><iframe src=\"http://127.0.0.1:7860/\" width=\"100%\" height=\"500\" allow=\"autoplay; camera; microphone; clipboard-read; clipboard-write;\" frameborder=\"0\" allowfullscreen></iframe></div>"
      ],
      "text/plain": [
       "<IPython.core.display.HTML object>"
      ]
     },
     "metadata": {},
     "output_type": "display_data"
    },
    {
     "data": {
      "text/plain": []
     },
     "execution_count": 2,
     "metadata": {},
     "output_type": "execute_result"
    }
   ],
   "source": [
    "import gradio as gr\n",
    "import openai\n",
    "\n",
    "\n",
    "def predict(message, history):\n",
    "    \"\"\"\n",
    "    Callable function for Gradio interface. This function will be called when user click send button. \n",
    "    This function call the OpenAI API to get the response.\n",
    "    \"\"\"\n",
    "    history_openai_format = [{\"role\": \"system\", \"content\": \"Assistant is the subject matter expert of all the Star Wars movies. Assistant able to help user to learn or explain everything related to the Star Wars movies.\"}]\n",
    "    for human, assistant in history:\n",
    "        history_openai_format.append({\"role\": \"user\", \"content\": human })\n",
    "        history_openai_format.append({\"role\": \"assistant\", \"content\":assistant})\n",
    "    history_openai_format.append({\"role\": \"user\", \"content\": message})\n",
    "\n",
    "    response = openai.chat.completions.create(\n",
    "        model='gpt-3.5-turbo',\n",
    "        messages= history_openai_format,\n",
    "        temperature=1.0,\n",
    "        stream=True\n",
    "    )\n",
    "\n",
    "    partial_message = \"\"\n",
    "    for chunk in response:\n",
    "        # chunk is a ChatCompletionChunk object that store the streaming response in content within\n",
    "        # delta object nested within choices object\n",
    "        if chunk.choices[0].delta.content is not None and len(chunk.choices[0].delta.content) != 0:\n",
    "            partial_message = partial_message + chunk.choices[0].delta.content\n",
    "            yield partial_message\n",
    "\n",
    "chat_interface = gr.ChatInterface(\n",
    "    predict,\n",
    "    clear_btn=None,\n",
    "    undo_btn=None,\n",
    "    retry_btn=None,\n",
    "    submit_btn=\"Send\"\n",
    "    )\n",
    "chat_interface.queue().launch()"
   ]
  },
  {
   "cell_type": "code",
   "execution_count": null,
   "metadata": {},
   "outputs": [],
   "source": [
    "# close the chat interface server\n",
    "chat_interface.close()"
   ]
  }
 ],
 "metadata": {
  "kernelspec": {
   "display_name": ".venv",
   "language": "python",
   "name": "python3"
  },
  "language_info": {
   "codemirror_mode": {
    "name": "ipython",
    "version": 3
   },
   "file_extension": ".py",
   "mimetype": "text/x-python",
   "name": "python",
   "nbconvert_exporter": "python",
   "pygments_lexer": "ipython3",
   "version": "3.11.5"
  }
 },
 "nbformat": 4,
 "nbformat_minor": 2
}
