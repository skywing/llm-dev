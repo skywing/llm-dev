{
 "cells": [
  {
   "cell_type": "code",
   "execution_count": null,
   "metadata": {},
   "outputs": [],
   "source": [
    "! pip install -q langchain==0.0.350\n",
    "! pip install -q gradio==4.9.0\n",
    "! pip install -q openai==1.3.8\n",
    "! pip install -q python-dotenv==1.0.0"
   ]
  },
  {
   "cell_type": "code",
   "execution_count": null,
   "metadata": {},
   "outputs": [],
   "source": [
    "from dotenv import load_dotenv, find_dotenv\n",
    "\n",
    "# find .env automatically by walking up directories until it's found \n",
    "# .env is a private file that is not checked into git\n",
    "# you can create one on your local folder and add your OPEN API key there like this:\n",
    "# OPENAI_API_KEY=YOUR_OPENAI_API_KEY\n",
    "_ = load_dotenv(find_dotenv())"
   ]
  },
  {
   "cell_type": "code",
   "execution_count": null,
   "metadata": {},
   "outputs": [],
   "source": [
    "import gradio as gr\n",
    "import openai\n",
    "\n",
    "\n",
    "def predict(message, history):\n",
    "    \"\"\"\n",
    "    Callable function for Gradio interface. This function will be called when user click send button. \n",
    "    This function call the OpenAI API to get the response.\n",
    "    \"\"\"\n",
    "    history_openai_format = [{\"role\": \"system\", \"content\": \"Assistant is the subject matter expert of all the Star Wars movies. Assistant able to help user to learn or explain everything related to the Star Wars movies.\"}]\n",
    "    for human, assistant in history:\n",
    "        history_openai_format.append({\"role\": \"user\", \"content\": human })\n",
    "        history_openai_format.append({\"role\": \"assistant\", \"content\":assistant})\n",
    "    history_openai_format.append({\"role\": \"user\", \"content\": message})\n",
    "\n",
    "    response = openai.chat.completions.create(\n",
    "        model='gpt-3.5-turbo',\n",
    "        messages= history_openai_format,\n",
    "        temperature=1.0,\n",
    "        stream=True\n",
    "    )\n",
    "\n",
    "    partial_message = \"\"\n",
    "    for chunk in response:\n",
    "        # chunk is a ChatCompletionChunk object that store the streaming response in content within\n",
    "        # delta object nested within choices object\n",
    "        if chunk.choices[0].delta.content is not None and len(chunk.choices[0].delta.content) != 0:\n",
    "            partial_message = partial_message + chunk.choices[0].delta.content\n",
    "            yield partial_message\n",
    "\n",
    "chat_interface = gr.ChatInterface(\n",
    "    predict,\n",
    "    clear_btn=None,\n",
    "    undo_btn=None,\n",
    "    retry_btn=None,\n",
    "    submit_btn=\"Send\"\n",
    "    )\n",
    "chat_interface.queue().launch()"
   ]
  },
  {
   "cell_type": "code",
   "execution_count": null,
   "metadata": {},
   "outputs": [],
   "source": [
    "# close the chat interface server\n",
    "chat_interface.close()"
   ]
  }
 ],
 "metadata": {
  "kernelspec": {
   "display_name": ".venv",
   "language": "python",
   "name": "python3"
  },
  "language_info": {
   "codemirror_mode": {
    "name": "ipython",
    "version": 3
   },
   "file_extension": ".py",
   "mimetype": "text/x-python",
   "name": "python",
   "nbconvert_exporter": "python",
   "pygments_lexer": "ipython3",
   "version": "3.11.5"
  }
 },
 "nbformat": 4,
 "nbformat_minor": 2
}
